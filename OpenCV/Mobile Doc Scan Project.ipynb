{
 "cells": [
  {
   "cell_type": "code",
   "execution_count": 1,
   "id": "1e20f1f3-5273-4668-b0fa-ccba5ad939de",
   "metadata": {},
   "outputs": [],
   "source": [
    "import cv2\n",
    "import imutils\n",
    "import numpy as np\n",
    "import matplotlib.pyplot as plt"
   ]
  },
  {
   "cell_type": "code",
   "execution_count": 2,
   "id": "4ed0ba71-fa05-4e3a-8a4e-f3af1bfe2f40",
   "metadata": {},
   "outputs": [],
   "source": [
    "image = cv2.imread('Resources/bill.jpg')\n",
    "ratio = image.shape[0] / 500.0\n",
    "image = imutils.resize(image, height = 500)\n",
    "im_copy = image.copy()"
   ]
  },
  {
   "cell_type": "code",
   "execution_count": 3,
   "id": "957b1c44-af82-417b-89fc-718386231250",
   "metadata": {},
   "outputs": [],
   "source": [
    "gray = cv2.cvtColor(image, cv2.COLOR_BGR2GRAY)\n",
    "blurred = cv2.GaussianBlur(gray, (5, 5), 0)\n",
    "thresh = cv2.threshold(blurred, 190, 255, cv2.THRESH_BINARY)[1]\n",
    "eroded = cv2.erode(thresh, None, iterations = 5)\n",
    "dilated = cv2.dilate(eroded, None, iterations = 10)\n",
    "edged = cv2.Canny(dilated, 50, 200)"
   ]
  },
  {
   "cell_type": "code",
   "execution_count": 4,
   "id": "7bf59dbe-1bac-47f0-a670-7512db67161d",
   "metadata": {},
   "outputs": [
    {
     "data": {
      "text/plain": [
       "-1"
      ]
     },
     "execution_count": 4,
     "metadata": {},
     "output_type": "execute_result"
    }
   ],
   "source": [
    "cv2.imshow(\"Image\", image)\n",
    "cv2.imshow(\"Edged\", edged)\n",
    "cv2.waitKey()"
   ]
  },
  {
   "cell_type": "code",
   "execution_count": 9,
   "id": "d505f3ef-3c29-4f70-aace-a3685aab84ea",
   "metadata": {},
   "outputs": [
    {
     "data": {
      "text/plain": [
       "-1"
      ]
     },
     "execution_count": 9,
     "metadata": {},
     "output_type": "execute_result"
    }
   ],
   "source": [
    "cnts = cv2.findContours(edged.copy(), cv2.RETR_EXTERNAL, cv2.CHAIN_APPROX_SIMPLE)\n",
    "cnts = imutils.grab_contours(cnts)\n",
    "cnts = sorted(cnts, key = cv2.contourArea, reverse = True)[:5]\n",
    "\n",
    "for c in cnts:\n",
    "    # approximate the contour\n",
    "    peri = cv2.arcLength(c, True)\n",
    "    approx = cv2.approxPolyDP(c, 0.02 * peri, True)\n",
    "\n",
    "    # determine the most extreme points along the contour\n",
    "    extLeft = tuple(c[c[:, :, 0].argmin()][0])\n",
    "    extRight = tuple(c[c[:, :, 0].argmax()][0])\n",
    "    extTop = tuple(c[c[:, :, 1].argmin()][0])\n",
    "    extBot = tuple(c[c[:, :, 1].argmax()][0])\n",
    "\n",
    "    # if our approximated contour has four points, then we can assume that we have found our screen\n",
    "    if len(approx) == 4:\n",
    "        screenCnt = approx\n",
    "        break\n",
    "\n",
    "# show the contour (outline) of the piece of paper\n",
    "cv2.drawContours(im_copy, [c], -1, (0, 255, 255), 2)\n",
    "\n",
    "cv2.circle(im_copy, extLeft, 8, (0, 0, 255), -1)\n",
    "cv2.circle(im_copy, extRight, 8, (0, 255, 0), -1)\n",
    "cv2.circle(im_copy, extTop, 8, (255, 0, 0), -1)\n",
    "cv2.circle(im_copy, extBot, 8, (255, 255, 0), -1)\n",
    "\n",
    "cv2.imshow('Image copy', im_copy)\n",
    "cv2.waitKey()"
   ]
  },
  {
   "cell_type": "code",
   "execution_count": 10,
   "id": "d8a1c65b-c031-42b4-aa18-aad4649ceef0",
   "metadata": {},
   "outputs": [],
   "source": [
    "# Perspective Transform & Threshold"
   ]
  },
  {
   "cell_type": "code",
   "execution_count": 11,
   "id": "965517b4-2979-4b1d-beb1-4bae79758cd4",
   "metadata": {},
   "outputs": [],
   "source": [
    "def perspectiveTransform():\n",
    "    p1 = np.array([extLeft, extBot, extTop, extRight], dtype=np.float32)\n",
    "    p2 = np.array([[0,0],\n",
    "                   [0,500],\n",
    "                   [500,0],\n",
    "                   [500,500]], dtype=np.float32)\n",
    "\n",
    "    T = cv2.getPerspectiveTransform(p1, p2)\n",
    "    imgTrans = cv2.warpPerspective(im_copy, T, (500, 500))\n",
    "\n",
    "    cv2.imshow(\"Image\", image)\n",
    "    cv2.imshow(\"Transformed Image\", imgTrans)\n",
    "    cv2.waitKey()\n",
    "\n",
    "perspectiveTransform()"
   ]
  },
  {
   "cell_type": "code",
   "execution_count": null,
   "id": "31ac0388-c761-4efe-a75d-b1dfee9c8cf2",
   "metadata": {},
   "outputs": [],
   "source": []
  },
  {
   "cell_type": "code",
   "execution_count": null,
   "id": "427160e5-0183-4b84-93c5-d20d2f5ed8f7",
   "metadata": {},
   "outputs": [],
   "source": []
  }
 ],
 "metadata": {
  "kernelspec": {
   "display_name": "Python 3 (ipykernel)",
   "language": "python",
   "name": "python3"
  },
  "language_info": {
   "codemirror_mode": {
    "name": "ipython",
    "version": 3
   },
   "file_extension": ".py",
   "mimetype": "text/x-python",
   "name": "python",
   "nbconvert_exporter": "python",
   "pygments_lexer": "ipython3",
   "version": "3.11.7"
  }
 },
 "nbformat": 4,
 "nbformat_minor": 5
}
