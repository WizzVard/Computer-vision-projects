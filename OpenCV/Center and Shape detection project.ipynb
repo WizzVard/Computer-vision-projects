{
 "cells": [
  {
   "cell_type": "code",
   "execution_count": 1,
   "id": "8352e174-9674-4c37-b52d-1341c4a08f42",
   "metadata": {},
   "outputs": [],
   "source": [
    "import cv2\n",
    "import imutils\n",
    "import pandas as pd\n",
    "import numpy as np"
   ]
  },
  {
   "cell_type": "code",
   "execution_count": 2,
   "id": "4dff331f-b293-41bd-8e2c-765242df021a",
   "metadata": {},
   "outputs": [],
   "source": [
    "class ShapeDetector:\n",
    "    def __init__(self):\n",
    "        pass\n",
    "\n",
    "    def detect(self, c):\n",
    "        # initialize the shape name and approximate the contour\n",
    "        shape = \"unidentified\"\n",
    "        peri = cv2.arcLength(c, True)\n",
    "        approx = cv2.approxPolyDP(c, 0.04 * peri, True)\n",
    "\n",
    "        # if the shape is a triangle, it will have 3 vertices\n",
    "        if len(approx) == 3:\n",
    "            shape = \"triangle\"\n",
    "\n",
    "        # if the shape is a square or a rectangle, it will have 4 vertices\n",
    "        elif len(approx) == 4:\n",
    "            # compute the bounding box of the contour and use the bounding box to compute aspect ratio\n",
    "            (x, y, w, h) = cv2.boundingRect(approx)\n",
    "            ar = w/float(h)\n",
    "\n",
    "            # a square will have an aspect ration that is approximately\n",
    "            # equal to one, otherwise the shape is a rectangle\n",
    "            shape = \"square\" if ar >= 0.95 and ar <= 1.05 else \"rectangle\"\n",
    "\n",
    "        # if the shape is a pentagon, it will have 5 vertices\n",
    "        elif len(approx) == 5:\n",
    "            shape = \"pentagon\"\n",
    "\n",
    "        # otherwise, we assume the shape is a circle\n",
    "        else:\n",
    "            shape = \"circle\"\n",
    "\n",
    "        return shape"
   ]
  },
  {
   "cell_type": "code",
   "execution_count": null,
   "id": "f60934b9-9173-4f9a-9128-88f7f8abebfe",
   "metadata": {},
   "outputs": [],
   "source": []
  },
  {
   "cell_type": "code",
   "execution_count": 3,
   "id": "6cf10a48-57cb-4dc4-8824-5c3c0fd3efac",
   "metadata": {},
   "outputs": [
    {
     "name": "stdout",
     "output_type": "stream",
     "text": [
      "width=600, height=561, depth=3\n"
     ]
    }
   ],
   "source": [
    "image = cv2.imread('Resources/shapes_and_colors.png')\n",
    "(h, w, d) = image.shape\n",
    "print(\"width={}, height={}, depth={}\".format(w, h, d))"
   ]
  },
  {
   "cell_type": "code",
   "execution_count": 4,
   "id": "f431a44d-50df-42cb-8388-00ae5efda1e3",
   "metadata": {},
   "outputs": [],
   "source": [
    "gray = cv2.cvtColor(image, cv2.COLOR_BGR2GRAY)\n",
    "blurred = cv2.GaussianBlur(gray, (5, 5), 0)\n",
    "thresh = cv2.threshold(blurred, 60, 255, cv2.THRESH_BINARY)[1]\n",
    "\n",
    "sd = ShapeDetector()\n",
    "\n",
    "cnts = cv2.findContours(thresh.copy(), cv2.RETR_EXTERNAL, cv2.CHAIN_APPROX_SIMPLE)\n",
    "# cv2.RETR_EXTERNAL flag retrieves only the extreme outer contours (ignores nested contours), \n",
    "# cv2.CHAIN_APPROX_SIMPLE compresses horizontal, vertical, and diagonal segments, leaving only their end points.\n",
    "cnts = imutils.grab_contours(cnts)\n",
    "\n",
    "# loop over the contours\n",
    "for c in cnts:\n",
    "    # Compute the moments of the contour, which can be used to calculate the centroid (center point).\n",
    "    M = cv2.moments(c)\n",
    "\n",
    "    #If the area (M[\"m00\"]) is zero, it is set to 1 to avoid division by zero.\n",
    "    if (M[\"m00\"] == 0):\n",
    "        M[\"m00\"]=1    \n",
    "\n",
    "    # The function cv2.moments() calculates the moments of a binary image (in this case, the contour c). \n",
    "    # The moments are a set of scalar values calculated from the image’s pixels’ intensities, \n",
    "    # and they provide information about the shape of the object in the image.\n",
    "\n",
    "    # The moments include spatial(пространственные) moments (M[\"m00\"], M[\"m01\"], M[\"m10\"], etc.) and central moments. \n",
    "    # The spatial moments M[\"m00\"], M[\"m01\"], and M[\"m10\"] are used to calculate the centroid of the shape.\n",
    "\n",
    "    # The centroid (cX, cY) of the shape is calculated as follows:\n",
    "    \n",
    "    cX = int(M[\"m10\"] / M[\"m00\"])\n",
    "    # This line calculates the x-coordinate of the centroid. \n",
    "    # M[\"m10\"] is the sum of the products of each pixel’s x-coordinate and its intensity, \n",
    "    # and M[\"m00\"] is the sum of the intensities of all the pixels (essentially, the area of the shape for binary images).\n",
    "    \n",
    "    cY = int(M[\"m01\"] / M[\"m00\"])\n",
    "    # This line calculates the y-coordinate of the centroid. \n",
    "    # M[\"m01\"] is the sum of the products of each pixel’s y-coordinate and its intensity.\n",
    "\n",
    "    # get the shape name\n",
    "    shape = sd.detect(c)\n",
    "    \n",
    "    # This line draws the contour on the image in green color.\n",
    "    cv2.drawContours(image, [c], -1, (0, 255, 0), 2)\n",
    "    # This line draws a white circle at the centroid.\n",
    "    cv2.circle(image, (cX, cY), 7, (255, 255, 255), -1)\n",
    "    # put a text label near the centroid.\n",
    "    cv2.putText(image, shape, (cX - 20, cY - 20), cv2.FONT_HERSHEY_SIMPLEX, 0.5, (255, 255, 255), 2)\n",
    "\n",
    "    # show the image\n",
    "    cv2.imshow(\"Image\", image)\n",
    "    cv2.waitKey()"
   ]
  },
  {
   "cell_type": "code",
   "execution_count": null,
   "id": "2e40def3-1d09-4981-8736-668ac5ef71d4",
   "metadata": {},
   "outputs": [],
   "source": []
  },
  {
   "cell_type": "code",
   "execution_count": null,
   "id": "0d08e397-e475-499c-958e-86079e1e3658",
   "metadata": {},
   "outputs": [],
   "source": []
  },
  {
   "cell_type": "code",
   "execution_count": null,
   "id": "ae689220-6156-4d57-8387-2fa93fa5192e",
   "metadata": {},
   "outputs": [],
   "source": []
  },
  {
   "cell_type": "code",
   "execution_count": null,
   "id": "a50496a7-6aae-4fb1-881c-4fc95513ecc9",
   "metadata": {},
   "outputs": [],
   "source": []
  },
  {
   "cell_type": "code",
   "execution_count": null,
   "id": "0643e9f5-102d-4e01-b73d-c1c174830b25",
   "metadata": {},
   "outputs": [],
   "source": [
    "\n"
   ]
  }
 ],
 "metadata": {
  "kernelspec": {
   "display_name": "Python 3 (ipykernel)",
   "language": "python",
   "name": "python3"
  },
  "language_info": {
   "codemirror_mode": {
    "name": "ipython",
    "version": 3
   },
   "file_extension": ".py",
   "mimetype": "text/x-python",
   "name": "python",
   "nbconvert_exporter": "python",
   "pygments_lexer": "ipython3",
   "version": "3.11.7"
  }
 },
 "nbformat": 4,
 "nbformat_minor": 5
}
